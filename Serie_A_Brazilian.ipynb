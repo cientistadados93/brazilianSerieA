{
  "nbformat": 4,
  "nbformat_minor": 0,
  "metadata": {
    "colab": {
      "name": "Serie A Brazilian.ipynb",
      "provenance": [],
      "authorship_tag": "ABX9TyOJriH7ETIr2RoPAyvs1WJD",
      "include_colab_link": true
    },
    "kernelspec": {
      "name": "python3",
      "display_name": "Python 3"
    },
    "language_info": {
      "name": "python"
    }
  },
  "cells": [
    {
      "cell_type": "markdown",
      "metadata": {
        "id": "view-in-github",
        "colab_type": "text"
      },
      "source": [
        "<a href=\"https://colab.research.google.com/github/cientistadados93/brazilianSerieA/blob/main/Serie_A_Brazilian.ipynb\" target=\"_parent\"><img src=\"https://colab.research.google.com/assets/colab-badge.svg\" alt=\"Open In Colab\"/></a>"
      ]
    },
    {
      "cell_type": "markdown",
      "source": [
        "Importando as classes que serão usadas no estudo"
      ],
      "metadata": {
        "id": "PH5-d7sA2rJj"
      }
    },
    {
      "cell_type": "code",
      "execution_count": 4,
      "metadata": {
        "id": "Gutpl8RQ2MfF"
      },
      "outputs": [],
      "source": [
        "import pandas as pd\n",
        "import numpy as np\n",
        "import matplotlib.pyplot as plt"
      ]
    },
    {
      "cell_type": "markdown",
      "source": [
        "Carregando os dados do site www.football-data.co.uk, em formato CSV"
      ],
      "metadata": {
        "id": "CXYqqNbS2-qb"
      }
    },
    {
      "cell_type": "code",
      "source": [
        "brazilA = pd.read_csv(\"https://www.football-data.co.uk/new/BRA.csv\")"
      ],
      "metadata": {
        "id": "RzpMgjSd3MqE"
      },
      "execution_count": 5,
      "outputs": []
    },
    {
      "cell_type": "markdown",
      "source": [
        "Analisando os dados disponiveis no arquivo com a função head(), para verificar as colunas e seus respectivos dados para utilização no estudo"
      ],
      "metadata": {
        "id": "dN2OWldQ3fc7"
      }
    },
    {
      "cell_type": "code",
      "source": [
        "brazilA.head(3)"
      ],
      "metadata": {
        "colab": {
          "base_uri": "https://localhost:8080/",
          "height": 225
        },
        "id": "FAlzBT1LQarT",
        "outputId": "69fbbc4a-2c6d-413f-8342-48cd75b6f30d"
      },
      "execution_count": 40,
      "outputs": [
        {
          "output_type": "execute_result",
          "data": {
            "text/html": [
              "\n",
              "  <div id=\"df-5e3af3f1-34b8-4df7-b0b9-fcf4b4236dac\">\n",
              "    <div class=\"colab-df-container\">\n",
              "      <div>\n",
              "<style scoped>\n",
              "    .dataframe tbody tr th:only-of-type {\n",
              "        vertical-align: middle;\n",
              "    }\n",
              "\n",
              "    .dataframe tbody tr th {\n",
              "        vertical-align: top;\n",
              "    }\n",
              "\n",
              "    .dataframe thead th {\n",
              "        text-align: right;\n",
              "    }\n",
              "</style>\n",
              "<table border=\"1\" class=\"dataframe\">\n",
              "  <thead>\n",
              "    <tr style=\"text-align: right;\">\n",
              "      <th></th>\n",
              "      <th>Country</th>\n",
              "      <th>League</th>\n",
              "      <th>Season</th>\n",
              "      <th>Date</th>\n",
              "      <th>Time</th>\n",
              "      <th>Home</th>\n",
              "      <th>Away</th>\n",
              "      <th>HG</th>\n",
              "      <th>AG</th>\n",
              "      <th>Res</th>\n",
              "      <th>PH</th>\n",
              "      <th>PD</th>\n",
              "      <th>PA</th>\n",
              "      <th>MaxH</th>\n",
              "      <th>MaxD</th>\n",
              "      <th>MaxA</th>\n",
              "      <th>AvgH</th>\n",
              "      <th>AvgD</th>\n",
              "      <th>AvgA</th>\n",
              "    </tr>\n",
              "  </thead>\n",
              "  <tbody>\n",
              "    <tr>\n",
              "      <th>0</th>\n",
              "      <td>Brazil</td>\n",
              "      <td>Serie A</td>\n",
              "      <td>2012</td>\n",
              "      <td>19/05/2012</td>\n",
              "      <td>22:30</td>\n",
              "      <td>Palmeiras</td>\n",
              "      <td>Portuguesa</td>\n",
              "      <td>1.0</td>\n",
              "      <td>1.0</td>\n",
              "      <td>D</td>\n",
              "      <td>1.75</td>\n",
              "      <td>3.86</td>\n",
              "      <td>5.25</td>\n",
              "      <td>1.76</td>\n",
              "      <td>3.87</td>\n",
              "      <td>5.31</td>\n",
              "      <td>1.69</td>\n",
              "      <td>3.50</td>\n",
              "      <td>4.90</td>\n",
              "    </tr>\n",
              "    <tr>\n",
              "      <th>1</th>\n",
              "      <td>Brazil</td>\n",
              "      <td>Serie A</td>\n",
              "      <td>2012</td>\n",
              "      <td>19/05/2012</td>\n",
              "      <td>22:30</td>\n",
              "      <td>Sport Recife</td>\n",
              "      <td>Flamengo RJ</td>\n",
              "      <td>1.0</td>\n",
              "      <td>1.0</td>\n",
              "      <td>D</td>\n",
              "      <td>2.83</td>\n",
              "      <td>3.39</td>\n",
              "      <td>2.68</td>\n",
              "      <td>2.83</td>\n",
              "      <td>3.42</td>\n",
              "      <td>2.70</td>\n",
              "      <td>2.59</td>\n",
              "      <td>3.23</td>\n",
              "      <td>2.58</td>\n",
              "    </tr>\n",
              "    <tr>\n",
              "      <th>2</th>\n",
              "      <td>Brazil</td>\n",
              "      <td>Serie A</td>\n",
              "      <td>2012</td>\n",
              "      <td>20/05/2012</td>\n",
              "      <td>01:00</td>\n",
              "      <td>Figueirense</td>\n",
              "      <td>Nautico</td>\n",
              "      <td>2.0</td>\n",
              "      <td>1.0</td>\n",
              "      <td>H</td>\n",
              "      <td>1.60</td>\n",
              "      <td>4.04</td>\n",
              "      <td>6.72</td>\n",
              "      <td>1.67</td>\n",
              "      <td>4.05</td>\n",
              "      <td>7.22</td>\n",
              "      <td>1.59</td>\n",
              "      <td>3.67</td>\n",
              "      <td>5.64</td>\n",
              "    </tr>\n",
              "  </tbody>\n",
              "</table>\n",
              "</div>\n",
              "      <button class=\"colab-df-convert\" onclick=\"convertToInteractive('df-5e3af3f1-34b8-4df7-b0b9-fcf4b4236dac')\"\n",
              "              title=\"Convert this dataframe to an interactive table.\"\n",
              "              style=\"display:none;\">\n",
              "        \n",
              "  <svg xmlns=\"http://www.w3.org/2000/svg\" height=\"24px\"viewBox=\"0 0 24 24\"\n",
              "       width=\"24px\">\n",
              "    <path d=\"M0 0h24v24H0V0z\" fill=\"none\"/>\n",
              "    <path d=\"M18.56 5.44l.94 2.06.94-2.06 2.06-.94-2.06-.94-.94-2.06-.94 2.06-2.06.94zm-11 1L8.5 8.5l.94-2.06 2.06-.94-2.06-.94L8.5 2.5l-.94 2.06-2.06.94zm10 10l.94 2.06.94-2.06 2.06-.94-2.06-.94-.94-2.06-.94 2.06-2.06.94z\"/><path d=\"M17.41 7.96l-1.37-1.37c-.4-.4-.92-.59-1.43-.59-.52 0-1.04.2-1.43.59L10.3 9.45l-7.72 7.72c-.78.78-.78 2.05 0 2.83L4 21.41c.39.39.9.59 1.41.59.51 0 1.02-.2 1.41-.59l7.78-7.78 2.81-2.81c.8-.78.8-2.07 0-2.86zM5.41 20L4 18.59l7.72-7.72 1.47 1.35L5.41 20z\"/>\n",
              "  </svg>\n",
              "      </button>\n",
              "      \n",
              "  <style>\n",
              "    .colab-df-container {\n",
              "      display:flex;\n",
              "      flex-wrap:wrap;\n",
              "      gap: 12px;\n",
              "    }\n",
              "\n",
              "    .colab-df-convert {\n",
              "      background-color: #E8F0FE;\n",
              "      border: none;\n",
              "      border-radius: 50%;\n",
              "      cursor: pointer;\n",
              "      display: none;\n",
              "      fill: #1967D2;\n",
              "      height: 32px;\n",
              "      padding: 0 0 0 0;\n",
              "      width: 32px;\n",
              "    }\n",
              "\n",
              "    .colab-df-convert:hover {\n",
              "      background-color: #E2EBFA;\n",
              "      box-shadow: 0px 1px 2px rgba(60, 64, 67, 0.3), 0px 1px 3px 1px rgba(60, 64, 67, 0.15);\n",
              "      fill: #174EA6;\n",
              "    }\n",
              "\n",
              "    [theme=dark] .colab-df-convert {\n",
              "      background-color: #3B4455;\n",
              "      fill: #D2E3FC;\n",
              "    }\n",
              "\n",
              "    [theme=dark] .colab-df-convert:hover {\n",
              "      background-color: #434B5C;\n",
              "      box-shadow: 0px 1px 3px 1px rgba(0, 0, 0, 0.15);\n",
              "      filter: drop-shadow(0px 1px 2px rgba(0, 0, 0, 0.3));\n",
              "      fill: #FFFFFF;\n",
              "    }\n",
              "  </style>\n",
              "\n",
              "      <script>\n",
              "        const buttonEl =\n",
              "          document.querySelector('#df-5e3af3f1-34b8-4df7-b0b9-fcf4b4236dac button.colab-df-convert');\n",
              "        buttonEl.style.display =\n",
              "          google.colab.kernel.accessAllowed ? 'block' : 'none';\n",
              "\n",
              "        async function convertToInteractive(key) {\n",
              "          const element = document.querySelector('#df-5e3af3f1-34b8-4df7-b0b9-fcf4b4236dac');\n",
              "          const dataTable =\n",
              "            await google.colab.kernel.invokeFunction('convertToInteractive',\n",
              "                                                     [key], {});\n",
              "          if (!dataTable) return;\n",
              "\n",
              "          const docLinkHtml = 'Like what you see? Visit the ' +\n",
              "            '<a target=\"_blank\" href=https://colab.research.google.com/notebooks/data_table.ipynb>data table notebook</a>'\n",
              "            + ' to learn more about interactive tables.';\n",
              "          element.innerHTML = '';\n",
              "          dataTable['output_type'] = 'display_data';\n",
              "          await google.colab.output.renderOutput(dataTable, element);\n",
              "          const docLink = document.createElement('div');\n",
              "          docLink.innerHTML = docLinkHtml;\n",
              "          element.appendChild(docLink);\n",
              "        }\n",
              "      </script>\n",
              "    </div>\n",
              "  </div>\n",
              "  "
            ],
            "text/plain": [
              "  Country   League  Season        Date   Time  ...  MaxD  MaxA  AvgH  AvgD  AvgA\n",
              "0  Brazil  Serie A    2012  19/05/2012  22:30  ...  3.87  5.31  1.69  3.50  4.90\n",
              "1  Brazil  Serie A    2012  19/05/2012  22:30  ...  3.42  2.70  2.59  3.23  2.58\n",
              "2  Brazil  Serie A    2012  20/05/2012  01:00  ...  4.05  7.22  1.59  3.67  5.64\n",
              "\n",
              "[3 rows x 19 columns]"
            ]
          },
          "metadata": {},
          "execution_count": 40
        }
      ]
    },
    {
      "cell_type": "markdown",
      "source": [
        "Criando variáveis para realizar a primeira analise de vitórias equipe da casa (home_win), empates (draw) e vitórias equipe visitante (away_win)"
      ],
      "metadata": {
        "id": "jP6ZFgoKQhx2"
      }
    },
    {
      "cell_type": "code",
      "source": [
        "home_win = len(brazilA[brazilA.Res== 'H'])\n",
        "draw = len(brazilA[brazilA.Res == 'D'])\n",
        "away_win = len(brazilA[brazilA.Res == 'A'])"
      ],
      "metadata": {
        "id": "NXiUhho-41-b"
      },
      "execution_count": 7,
      "outputs": []
    },
    {
      "cell_type": "markdown",
      "source": [
        "Lista 'results' com as 3 variaveis criadas acima"
      ],
      "metadata": {
        "id": "ntFfD_-oRYcH"
      }
    },
    {
      "cell_type": "code",
      "source": [
        "results = [home_win, draw, away_win]"
      ],
      "metadata": {
        "id": "HzpPmWAG5lKM"
      },
      "execution_count": 8,
      "outputs": []
    },
    {
      "cell_type": "markdown",
      "source": [
        "'totalmatches' com a quantidade total de partidas realizadas no periodo analisado (ano de 2012 até 2021)"
      ],
      "metadata": {
        "id": "Wzu-OCOgRn3U"
      }
    },
    {
      "cell_type": "code",
      "source": [
        "totalmatches = len(brazilA)"
      ],
      "metadata": {
        "id": "up3RqFQDRS2O"
      },
      "execution_count": 9,
      "outputs": []
    },
    {
      "cell_type": "markdown",
      "source": [
        "Calculando  aporcentagem das vitórias, utilizando o 'totalmatches' como divisor"
      ],
      "metadata": {
        "id": "bUVkeWO-R5Dl"
      }
    },
    {
      "cell_type": "code",
      "source": [
        "home_rate = (float(home_win)/(totalmatches))*100\n",
        "draw_rate = (float(draw)/(totalmatches))*100\n",
        "away_rate = (float(away_win)/(totalmatches))*100"
      ],
      "metadata": {
        "id": "e9F0YkQs5rF8"
      },
      "execution_count": 10,
      "outputs": []
    },
    {
      "cell_type": "markdown",
      "source": [
        "Lista 'results_rate' com as porcentagens de vitórias equipe da casa ( home_rate), empates (draw_rate) e vitórias equipe visitante (away_rate)"
      ],
      "metadata": {
        "id": "CKqEB7KJSWcd"
      }
    },
    {
      "cell_type": "code",
      "source": [
        "results_rate = [home_rate, draw_rate, away_rate]\n"
      ],
      "metadata": {
        "id": "IjrvIiBKSYdS"
      },
      "execution_count": 11,
      "outputs": []
    },
    {
      "cell_type": "markdown",
      "source": [
        "Mostrando os resultados obtidos com o calculo da porcentagem, utilizando somente duas casas decimais"
      ],
      "metadata": {
        "id": "VLZsJkJoTDnA"
      }
    },
    {
      "cell_type": "code",
      "source": [
        "print('Home wins:{:.2f}%'.format(home_rate))\n",
        "print('Draws:{:.2f}%'.format(draw_rate))\n",
        "print('Away wins:{:.2f}%'.format(away_rate))\n"
      ],
      "metadata": {
        "colab": {
          "base_uri": "https://localhost:8080/"
        },
        "id": "mI02_0YZ5vh4",
        "outputId": "dcf3d176-7ae5-475f-be00-189e4dace935"
      },
      "execution_count": 12,
      "outputs": [
        {
          "output_type": "stream",
          "name": "stdout",
          "text": [
            "Home wins:49.05%\n",
            "Draws:26.89%\n",
            "Away wins:24.03%\n"
          ]
        }
      ]
    },
    {
      "cell_type": "markdown",
      "source": [
        "# **Gráfico com números de vitórias de equipes mandantes, empates e equipes visitantes**"
      ],
      "metadata": {
        "id": "Uc9GqYaBmRLS"
      }
    },
    {
      "cell_type": "code",
      "source": [
        "resultados = ['Vitórias Mandante', 'Empates', 'Vitórias Visitante']"
      ],
      "metadata": {
        "id": "QXS9yxNGro-p"
      },
      "execution_count": 13,
      "outputs": []
    },
    {
      "cell_type": "markdown",
      "source": [
        "Criando o ambiente para que os valores de cada barra aparecam no gráfico"
      ],
      "metadata": {
        "id": "rSwq_uzWZn6Y"
      }
    },
    {
      "cell_type": "code",
      "source": [
        "x = np.arange(len(resultados)) #tamanho de itens no eixo X\n",
        "plt.figure(figsize=(12,8)) # determinando tamanho da figura/imagem\n",
        "\n",
        "plot = plt.bar(x, results, color=['#00FA9A', '#00FF7F', '#98FB98'])\n",
        "\n",
        "for i in plot.patches:\n",
        "  plt.annotate(i.get_height(),\n",
        "                (i.get_x() + i.get_width()/2,i.get_height()),\n",
        "                ha='center', va='baseline',fontsize=15,\n",
        "                xytext=(0,3),\n",
        "                textcoords='offset points'\n",
        "                )\n",
        "  \n",
        "plt.title(\"Número de Resultados do Brasileirão Série A 2012-2021\", fontsize=\"20\")\n",
        "plt.yticks(size=\"15\")\n",
        "plt.xticks(x, resultados, size=\"15\")\n",
        "plt.ylim(0,2000)\n",
        "plt.savefig(\"Resultados.jpeg\")\n",
        "plt.show()\n"
      ],
      "metadata": {
        "id": "hXMqRHvvZo7l",
        "outputId": "ffd9ee75-b73d-48fd-de28-3edd04b01744",
        "colab": {
          "base_uri": "https://localhost:8080/",
          "height": 509
        }
      },
      "execution_count": 36,
      "outputs": [
        {
          "output_type": "display_data",
          "data": {
            "image/png": "[encoded data removed]",
            "text/plain": [
              "<Figure size 864x576 with 1 Axes>"
            ]
          },
          "metadata": {
            "needs_background": "light"
          }
        }
      ]
    },
    {
      "cell_type": "code",
      "source": [
        "#soma do total de gols em cada partida adicionado em uma nova coluna 'Total Goals'\n",
        "brazilA[\"Total Goals\"] = brazilA.HG + brazilA.AG\n"
      ],
      "metadata": {
        "id": "WO91QjWX59MT"
      },
      "execution_count": 53,
      "outputs": []
    },
    {
      "cell_type": "code",
      "source": [
        "#Analisando os gols em toda a histórtia da competição\n",
        "\n",
        "zerogoal = len(brazilA[brazilA[\"Total Goals\"] == 0])\n",
        "onegoal = len(brazilA[brazilA[\"Total Goals\"] == 1])\n",
        "twogoals = len(brazilA[brazilA[\"Total Goals\"] == 2])\n",
        "threegoals = len(brazilA[brazilA[\"Total Goals\"] == 3])\n",
        "fourgoals = len(brazilA[brazilA[\"Total Goals\"] == 4])\n",
        "fivegoals = len(brazilA[brazilA[\"Total Goals\"] == 5])\n",
        "sixormore = len(brazilA[brazilA[\"Total Goals\"] >= 6])\n",
        "\n",
        "goals = [zerogoal, onegoal, twogoals, threegoals, fourgoals, fivegoals, sixormore]\n",
        "\n",
        "x = np.arange(7)\n",
        "plt.bar(x, goals)\n",
        "plt.xticks(x,('0', '1', '2', '3', '4', '5', '6 +'))\n",
        "plt.show()\n"
      ],
      "metadata": {
        "colab": {
          "base_uri": "https://localhost:8080/",
          "height": 267
        },
        "id": "qAQ6gOM16S9b",
        "outputId": "54703e15-44ed-42ac-d35c-abcbd153f0a6"
      },
      "execution_count": 54,
      "outputs": [
        {
          "output_type": "display_data",
          "data": {
            "image/png": "[encoded data removed]",
            "text/plain": [
              "<Figure size 432x288 with 1 Axes>"
            ]
          },
          "metadata": {
            "needs_background": "light"
          }
        }
      ]
    },
    {
      "cell_type": "code",
      "source": [
        "homegoals = brazilA.HG.sum()\n",
        "awaygoals = brazilA.AG.sum()\n",
        "totalgoals = brazilA[\"Total Goals\"].sum()"
      ],
      "metadata": {
        "id": "b3Zz32q37On7"
      },
      "execution_count": 55,
      "outputs": []
    },
    {
      "cell_type": "code",
      "source": [
        "goals_ha = [homegoals, awaygoals]"
      ],
      "metadata": {
        "id": "t_WzvUhZ-_eK"
      },
      "execution_count": 56,
      "outputs": []
    },
    {
      "cell_type": "code",
      "source": [
        "x = np.arange(2)\n",
        "plt.bar(x, goals_ha)\n",
        "plt.xticks(x,('Home', 'Away'))\n",
        "plt.show()\n"
      ],
      "metadata": {
        "colab": {
          "base_uri": "https://localhost:8080/",
          "height": 265
        },
        "id": "_r3nePTP_FZG",
        "outputId": "67bcdc99-7fda-4ad2-cfd9-c1042cd2ad76"
      },
      "execution_count": 57,
      "outputs": [
        {
          "output_type": "display_data",
          "data": {
            "image/png": "[encoded data removed]",
            "text/plain": [
              "<Figure size 432x288 with 1 Axes>"
            ]
          },
          "metadata": {
            "needs_background": "light"
          }
        }
      ]
    },
    {
      "cell_type": "code",
      "source": [
        ""
      ],
      "metadata": {
        "id": "vainYEYr7OhM"
      },
      "execution_count": 57,
      "outputs": []
    }
  ]
}